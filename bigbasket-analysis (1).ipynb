{
 "cells": [
  {
   "cell_type": "code",
   "execution_count": 113,
   "metadata": {
    "executionInfo": {
     "elapsed": 3233,
     "status": "ok",
     "timestamp": 1734247323462,
     "user": {
      "displayName": "Aifinite_learning",
      "userId": "00541348809590848732"
     },
     "user_tz": -330
    },
    "id": "s0Vb9uBW8enh"
   },
   "outputs": [],
   "source": [
    "import pandas as pd\n",
    "import numpy as np\n",
    "import matplotlib.pyplot as plt\n",
    "import seaborn as sns"
   ]
  },
  {
   "cell_type": "code",
   "execution_count": 114,
   "metadata": {
    "colab": {
     "base_uri": "https://localhost:8080/",
     "height": 206
    },
    "executionInfo": {
     "elapsed": 941,
     "status": "ok",
     "timestamp": 1734246387291,
     "user": {
      "displayName": "Aifinite_learning",
      "userId": "00541348809590848732"
     },
     "user_tz": -330
    },
    "id": "_0VYGu3eEghn",
    "outputId": "7ffbcb53-9059-4785-9dfa-c5163dbfa382"
   },
   "outputs": [
    {
     "data": {
      "text/html": [
       "<div>\n",
       "<style scoped>\n",
       "    .dataframe tbody tr th:only-of-type {\n",
       "        vertical-align: middle;\n",
       "    }\n",
       "\n",
       "    .dataframe tbody tr th {\n",
       "        vertical-align: top;\n",
       "    }\n",
       "\n",
       "    .dataframe thead th {\n",
       "        text-align: right;\n",
       "    }\n",
       "</style>\n",
       "<table border=\"1\" class=\"dataframe\">\n",
       "  <thead>\n",
       "    <tr style=\"text-align: right;\">\n",
       "      <th></th>\n",
       "      <th>index</th>\n",
       "      <th>product</th>\n",
       "      <th>category</th>\n",
       "      <th>sub_category</th>\n",
       "      <th>brand</th>\n",
       "      <th>sale_price</th>\n",
       "      <th>market_price</th>\n",
       "      <th>type</th>\n",
       "      <th>rating</th>\n",
       "      <th>description</th>\n",
       "    </tr>\n",
       "  </thead>\n",
       "  <tbody>\n",
       "    <tr>\n",
       "      <th>0</th>\n",
       "      <td>1</td>\n",
       "      <td>Garlic Oil - Vegetarian Capsule 500 mg</td>\n",
       "      <td>Beauty &amp; Hygiene</td>\n",
       "      <td>Hair Care</td>\n",
       "      <td>Sri Sri Ayurveda</td>\n",
       "      <td>220.0</td>\n",
       "      <td>220.0</td>\n",
       "      <td>Hair Oil &amp; Serum</td>\n",
       "      <td>4.1</td>\n",
       "      <td>This Product contains Garlic Oil that is known...</td>\n",
       "    </tr>\n",
       "    <tr>\n",
       "      <th>1</th>\n",
       "      <td>2</td>\n",
       "      <td>Water Bottle - Orange</td>\n",
       "      <td>Kitchen, Garden &amp; Pets</td>\n",
       "      <td>Storage &amp; Accessories</td>\n",
       "      <td>Mastercook</td>\n",
       "      <td>180.0</td>\n",
       "      <td>180.0</td>\n",
       "      <td>Water &amp; Fridge Bottles</td>\n",
       "      <td>2.3</td>\n",
       "      <td>Each product is microwave safe (without lid), ...</td>\n",
       "    </tr>\n",
       "    <tr>\n",
       "      <th>2</th>\n",
       "      <td>3</td>\n",
       "      <td>Brass Angle Deep - Plain, No.2</td>\n",
       "      <td>Cleaning &amp; Household</td>\n",
       "      <td>Pooja Needs</td>\n",
       "      <td>Trm</td>\n",
       "      <td>119.0</td>\n",
       "      <td>250.0</td>\n",
       "      <td>Lamp &amp; Lamp Oil</td>\n",
       "      <td>3.4</td>\n",
       "      <td>A perfect gift for all occasions, be it your m...</td>\n",
       "    </tr>\n",
       "    <tr>\n",
       "      <th>3</th>\n",
       "      <td>4</td>\n",
       "      <td>Cereal Flip Lid Container/Storage Jar - Assort...</td>\n",
       "      <td>Cleaning &amp; Household</td>\n",
       "      <td>Bins &amp; Bathroom Ware</td>\n",
       "      <td>Nakoda</td>\n",
       "      <td>149.0</td>\n",
       "      <td>176.0</td>\n",
       "      <td>Laundry, Storage Baskets</td>\n",
       "      <td>3.7</td>\n",
       "      <td>Multipurpose container with an attractive desi...</td>\n",
       "    </tr>\n",
       "    <tr>\n",
       "      <th>4</th>\n",
       "      <td>5</td>\n",
       "      <td>Creme Soft Soap - For Hands &amp; Body</td>\n",
       "      <td>Beauty &amp; Hygiene</td>\n",
       "      <td>Bath &amp; Hand Wash</td>\n",
       "      <td>Nivea</td>\n",
       "      <td>162.0</td>\n",
       "      <td>162.0</td>\n",
       "      <td>Bathing Bars &amp; Soaps</td>\n",
       "      <td>4.4</td>\n",
       "      <td>Nivea Creme Soft Soap gives your skin the best...</td>\n",
       "    </tr>\n",
       "  </tbody>\n",
       "</table>\n",
       "</div>"
      ],
      "text/plain": [
       "   index                                            product  \\\n",
       "0      1             Garlic Oil - Vegetarian Capsule 500 mg   \n",
       "1      2                              Water Bottle - Orange   \n",
       "2      3                     Brass Angle Deep - Plain, No.2   \n",
       "3      4  Cereal Flip Lid Container/Storage Jar - Assort...   \n",
       "4      5                 Creme Soft Soap - For Hands & Body   \n",
       "\n",
       "                 category           sub_category              brand  \\\n",
       "0        Beauty & Hygiene              Hair Care  Sri Sri Ayurveda    \n",
       "1  Kitchen, Garden & Pets  Storage & Accessories         Mastercook   \n",
       "2    Cleaning & Household            Pooja Needs                Trm   \n",
       "3    Cleaning & Household   Bins & Bathroom Ware             Nakoda   \n",
       "4        Beauty & Hygiene       Bath & Hand Wash              Nivea   \n",
       "\n",
       "   sale_price  market_price                      type  rating  \\\n",
       "0       220.0         220.0          Hair Oil & Serum     4.1   \n",
       "1       180.0         180.0    Water & Fridge Bottles     2.3   \n",
       "2       119.0         250.0           Lamp & Lamp Oil     3.4   \n",
       "3       149.0         176.0  Laundry, Storage Baskets     3.7   \n",
       "4       162.0         162.0      Bathing Bars & Soaps     4.4   \n",
       "\n",
       "                                         description  \n",
       "0  This Product contains Garlic Oil that is known...  \n",
       "1  Each product is microwave safe (without lid), ...  \n",
       "2  A perfect gift for all occasions, be it your m...  \n",
       "3  Multipurpose container with an attractive desi...  \n",
       "4  Nivea Creme Soft Soap gives your skin the best...  "
      ]
     },
     "execution_count": 114,
     "metadata": {},
     "output_type": "execute_result"
    }
   ],
   "source": [
    "super_data=pd.read_csv(r'C:\\Users\\Salma K\\Documents\\Ijazpython\\Data analytics project with python\\Big basket\\BigBasket Products.csv')\n",
    "super_data.head()"
   ]
  },
  {
   "cell_type": "code",
   "execution_count": 115,
   "metadata": {
    "colab": {
     "base_uri": "https://localhost:8080/"
    },
    "executionInfo": {
     "elapsed": 97,
     "status": "ok",
     "timestamp": 1734246387292,
     "user": {
      "displayName": "Aifinite_learning",
      "userId": "00541348809590848732"
     },
     "user_tz": -330
    },
    "id": "CJTFwoMtSBT6",
    "outputId": "84839e54-097f-4941-c94f-346cd2ecfbb0"
   },
   "outputs": [
    {
     "data": {
      "text/plain": [
       "(27555, 10)"
      ]
     },
     "execution_count": 115,
     "metadata": {},
     "output_type": "execute_result"
    }
   ],
   "source": [
    "super_data.shape"
   ]
  },
  {
   "cell_type": "code",
   "execution_count": 116,
   "metadata": {
    "colab": {
     "base_uri": "https://localhost:8080/"
    },
    "executionInfo": {
     "elapsed": 94,
     "status": "ok",
     "timestamp": 1734246387292,
     "user": {
      "displayName": "Aifinite_learning",
      "userId": "00541348809590848732"
     },
     "user_tz": -330
    },
    "id": "NeBZPySnEpHp",
    "outputId": "ebf5b3cd-2987-4422-d5c9-88b6ca4d4344"
   },
   "outputs": [
    {
     "name": "stdout",
     "output_type": "stream",
     "text": [
      "<class 'pandas.core.frame.DataFrame'>\n",
      "RangeIndex: 27555 entries, 0 to 27554\n",
      "Data columns (total 10 columns):\n",
      " #   Column        Non-Null Count  Dtype  \n",
      "---  ------        --------------  -----  \n",
      " 0   index         27555 non-null  int64  \n",
      " 1   product       27554 non-null  object \n",
      " 2   category      27555 non-null  object \n",
      " 3   sub_category  27555 non-null  object \n",
      " 4   brand         27554 non-null  object \n",
      " 5   sale_price    27555 non-null  float64\n",
      " 6   market_price  27555 non-null  float64\n",
      " 7   type          27555 non-null  object \n",
      " 8   rating        18929 non-null  float64\n",
      " 9   description   27440 non-null  object \n",
      "dtypes: float64(3), int64(1), object(6)\n",
      "memory usage: 2.1+ MB\n"
     ]
    }
   ],
   "source": [
    "super_data.info()"
   ]
  },
  {
   "cell_type": "code",
   "execution_count": 117,
   "metadata": {
    "colab": {
     "base_uri": "https://localhost:8080/"
    },
    "executionInfo": {
     "elapsed": 91,
     "status": "ok",
     "timestamp": 1734246387293,
     "user": {
      "displayName": "Aifinite_learning",
      "userId": "00541348809590848732"
     },
     "user_tz": -330
    },
    "id": "2wbXO2OPEvBU",
    "outputId": "32c8be4b-2084-4cf9-b568-9f3adf3392eb"
   },
   "outputs": [
    {
     "data": {
      "text/plain": [
       "(3.7, 4.3, 0.5999999999999996, 2.8000000000000007, 5.199999999999999)"
      ]
     },
     "execution_count": 117,
     "metadata": {},
     "output_type": "execute_result"
    }
   ],
   "source": [
    "Q1 = super_data[\"rating\"].quantile(0.25)\n",
    "Q3 = super_data[\"rating\"].quantile(0.75)\n",
    "\n",
    "IQR = Q3-Q1\n",
    "\n",
    "Lower_limit = Q1 - 1.5*IQR\n",
    "Upper_limit = Q3 + 1.5*IQR\n",
    "\n",
    "\n",
    "Q1, Q3, IQR, Lower_limit, Upper_limit"
   ]
  },
  {
   "cell_type": "code",
   "execution_count": 118,
   "metadata": {
    "colab": {
     "base_uri": "https://localhost:8080/",
     "height": 206
    },
    "executionInfo": {
     "elapsed": 87,
     "status": "ok",
     "timestamp": 1734246387294,
     "user": {
      "displayName": "Aifinite_learning",
      "userId": "00541348809590848732"
     },
     "user_tz": -330
    },
    "id": "_WNyyujJE28v",
    "outputId": "d5b3d9ed-1106-4797-9ceb-ba5759430656"
   },
   "outputs": [
    {
     "data": {
      "text/html": [
       "<div>\n",
       "<style scoped>\n",
       "    .dataframe tbody tr th:only-of-type {\n",
       "        vertical-align: middle;\n",
       "    }\n",
       "\n",
       "    .dataframe tbody tr th {\n",
       "        vertical-align: top;\n",
       "    }\n",
       "\n",
       "    .dataframe thead th {\n",
       "        text-align: right;\n",
       "    }\n",
       "</style>\n",
       "<table border=\"1\" class=\"dataframe\">\n",
       "  <thead>\n",
       "    <tr style=\"text-align: right;\">\n",
       "      <th></th>\n",
       "      <th>index</th>\n",
       "      <th>product</th>\n",
       "      <th>category</th>\n",
       "      <th>sub_category</th>\n",
       "      <th>brand</th>\n",
       "      <th>sale_price</th>\n",
       "      <th>market_price</th>\n",
       "      <th>type</th>\n",
       "      <th>rating</th>\n",
       "      <th>description</th>\n",
       "    </tr>\n",
       "  </thead>\n",
       "  <tbody>\n",
       "    <tr>\n",
       "      <th>1</th>\n",
       "      <td>2</td>\n",
       "      <td>Water Bottle - Orange</td>\n",
       "      <td>Kitchen, Garden &amp; Pets</td>\n",
       "      <td>Storage &amp; Accessories</td>\n",
       "      <td>Mastercook</td>\n",
       "      <td>180.00</td>\n",
       "      <td>180.0</td>\n",
       "      <td>Water &amp; Fridge Bottles</td>\n",
       "      <td>2.3</td>\n",
       "      <td>Each product is microwave safe (without lid), ...</td>\n",
       "    </tr>\n",
       "    <tr>\n",
       "      <th>11</th>\n",
       "      <td>12</td>\n",
       "      <td>Butter Cookies Gold Collection</td>\n",
       "      <td>Gourmet &amp; World Food</td>\n",
       "      <td>Chocolates &amp; Biscuits</td>\n",
       "      <td>Sapphire</td>\n",
       "      <td>600.00</td>\n",
       "      <td>600.0</td>\n",
       "      <td>Luxury Chocolates, Gifts</td>\n",
       "      <td>2.2</td>\n",
       "      <td>Enjoy a tin full of delicious butter cookies m...</td>\n",
       "    </tr>\n",
       "    <tr>\n",
       "      <th>29</th>\n",
       "      <td>30</td>\n",
       "      <td>Lip Butter - Rose</td>\n",
       "      <td>Beauty &amp; Hygiene</td>\n",
       "      <td>Skin Care</td>\n",
       "      <td>Organic Harvest</td>\n",
       "      <td>169.15</td>\n",
       "      <td>199.0</td>\n",
       "      <td>Lip Care</td>\n",
       "      <td>1.5</td>\n",
       "      <td>Reload the dry and chapped lips with Organic L...</td>\n",
       "    </tr>\n",
       "    <tr>\n",
       "      <th>43</th>\n",
       "      <td>44</td>\n",
       "      <td>Storage/Lunch Steel Container with PP Lid - Red</td>\n",
       "      <td>Kitchen, Garden &amp; Pets</td>\n",
       "      <td>Steel Utensils</td>\n",
       "      <td>Classic Essentials</td>\n",
       "      <td>109.00</td>\n",
       "      <td>299.0</td>\n",
       "      <td>Steel Lunch Boxes</td>\n",
       "      <td>2.6</td>\n",
       "      <td>Add a dash of colour to your kitchen with thes...</td>\n",
       "    </tr>\n",
       "    <tr>\n",
       "      <th>64</th>\n",
       "      <td>65</td>\n",
       "      <td>Aqua Halo Rejuvenating Conditioner</td>\n",
       "      <td>Beauty &amp; Hygiene</td>\n",
       "      <td>Hair Care</td>\n",
       "      <td>Azafran</td>\n",
       "      <td>168.75</td>\n",
       "      <td>225.0</td>\n",
       "      <td>Shampoo &amp; Conditioner</td>\n",
       "      <td>1.0</td>\n",
       "      <td>This Aqua Halo Rejuvenating Conditioner is an ...</td>\n",
       "    </tr>\n",
       "  </tbody>\n",
       "</table>\n",
       "</div>"
      ],
      "text/plain": [
       "    index                                          product  \\\n",
       "1       2                            Water Bottle - Orange   \n",
       "11     12                   Butter Cookies Gold Collection   \n",
       "29     30                                Lip Butter - Rose   \n",
       "43     44  Storage/Lunch Steel Container with PP Lid - Red   \n",
       "64     65               Aqua Halo Rejuvenating Conditioner   \n",
       "\n",
       "                  category           sub_category               brand  \\\n",
       "1   Kitchen, Garden & Pets  Storage & Accessories          Mastercook   \n",
       "11    Gourmet & World Food  Chocolates & Biscuits            Sapphire   \n",
       "29        Beauty & Hygiene              Skin Care     Organic Harvest   \n",
       "43  Kitchen, Garden & Pets         Steel Utensils  Classic Essentials   \n",
       "64        Beauty & Hygiene              Hair Care             Azafran   \n",
       "\n",
       "    sale_price  market_price                      type  rating  \\\n",
       "1       180.00         180.0    Water & Fridge Bottles     2.3   \n",
       "11      600.00         600.0  Luxury Chocolates, Gifts     2.2   \n",
       "29      169.15         199.0                  Lip Care     1.5   \n",
       "43      109.00         299.0         Steel Lunch Boxes     2.6   \n",
       "64      168.75         225.0     Shampoo & Conditioner     1.0   \n",
       "\n",
       "                                          description  \n",
       "1   Each product is microwave safe (without lid), ...  \n",
       "11  Enjoy a tin full of delicious butter cookies m...  \n",
       "29  Reload the dry and chapped lips with Organic L...  \n",
       "43  Add a dash of colour to your kitchen with thes...  \n",
       "64  This Aqua Halo Rejuvenating Conditioner is an ...  "
      ]
     },
     "execution_count": 118,
     "metadata": {},
     "output_type": "execute_result"
    }
   ],
   "source": [
    "outliers = super_data[(super_data[\"rating\"] < Lower_limit) | (super_data[\"rating\"] > Upper_limit)]\n",
    "outliers.head()"
   ]
  },
  {
   "cell_type": "code",
   "execution_count": 119,
   "metadata": {
    "colab": {
     "base_uri": "https://localhost:8080/"
    },
    "executionInfo": {
     "elapsed": 85,
     "status": "ok",
     "timestamp": 1734246387295,
     "user": {
      "displayName": "Aifinite_learning",
      "userId": "00541348809590848732"
     },
     "user_tz": -330
    },
    "id": "AiBoyN7-E8hP",
    "outputId": "af36105e-8a66-4810-d6fc-2eea74d65323"
   },
   "outputs": [
    {
     "data": {
      "text/plain": [
       "(1312, 10)"
      ]
     },
     "execution_count": 119,
     "metadata": {},
     "output_type": "execute_result"
    }
   ],
   "source": [
    "outliers.shape"
   ]
  },
  {
   "cell_type": "code",
   "execution_count": 120,
   "metadata": {
    "colab": {
     "base_uri": "https://localhost:8080/"
    },
    "executionInfo": {
     "elapsed": 82,
     "status": "ok",
     "timestamp": 1734246387295,
     "user": {
      "displayName": "Aifinite_learning",
      "userId": "00541348809590848732"
     },
     "user_tz": -330
    },
    "id": "5zYc-zxwFDvz",
    "outputId": "4af32b0c-57c3-45b4-a0eb-3dff9e2a7ad1"
   },
   "outputs": [
    {
     "data": {
      "text/plain": [
       "4.1"
      ]
     },
     "execution_count": 120,
     "metadata": {},
     "output_type": "execute_result"
    }
   ],
   "source": [
    "super_data['rating'].median()"
   ]
  },
  {
   "cell_type": "code",
   "execution_count": 121,
   "metadata": {
    "colab": {
     "base_uri": "https://localhost:8080/"
    },
    "executionInfo": {
     "elapsed": 78,
     "status": "ok",
     "timestamp": 1734246387296,
     "user": {
      "displayName": "Aifinite_learning",
      "userId": "00541348809590848732"
     },
     "user_tz": -330
    },
    "id": "ePjQY5zKFPI4",
    "outputId": "382548d8-0d9e-4703-a834-c971afaddc9c"
   },
   "outputs": [
    {
     "data": {
      "text/plain": [
       "3.943409583179249"
      ]
     },
     "execution_count": 121,
     "metadata": {},
     "output_type": "execute_result"
    }
   ],
   "source": [
    "super_data['rating'].mean()"
   ]
  },
  {
   "cell_type": "code",
   "execution_count": 122,
   "metadata": {
    "executionInfo": {
     "elapsed": 75,
     "status": "ok",
     "timestamp": 1734246387297,
     "user": {
      "displayName": "Aifinite_learning",
      "userId": "00541348809590848732"
     },
     "user_tz": -330
    },
    "id": "svYrQvmMFSEW"
   },
   "outputs": [],
   "source": [
    "super_data['rating']=super_data['rating'].fillna(super_data['rating'].median())"
   ]
  },
  {
   "cell_type": "code",
   "execution_count": 123,
   "metadata": {
    "colab": {
     "base_uri": "https://localhost:8080/",
     "height": 398
    },
    "executionInfo": {
     "elapsed": 75,
     "status": "ok",
     "timestamp": 1734246387298,
     "user": {
      "displayName": "Aifinite_learning",
      "userId": "00541348809590848732"
     },
     "user_tz": -330
    },
    "id": "rafIoO3DFa0T",
    "outputId": "caf92d3e-6868-448d-e976-dba4ea642351"
   },
   "outputs": [
    {
     "data": {
      "text/plain": [
       "index             0\n",
       "product           1\n",
       "category          0\n",
       "sub_category      0\n",
       "brand             1\n",
       "sale_price        0\n",
       "market_price      0\n",
       "type              0\n",
       "rating            0\n",
       "description     115\n",
       "dtype: int64"
      ]
     },
     "execution_count": 123,
     "metadata": {},
     "output_type": "execute_result"
    }
   ],
   "source": [
    "super_data.isnull().sum()"
   ]
  },
  {
   "cell_type": "code",
   "execution_count": 124,
   "metadata": {
    "executionInfo": {
     "elapsed": 72,
     "status": "ok",
     "timestamp": 1734246387298,
     "user": {
      "displayName": "Aifinite_learning",
      "userId": "00541348809590848732"
     },
     "user_tz": -330
    },
    "id": "5vVaBAz6Ff1z"
   },
   "outputs": [],
   "source": [
    "super_data.drop(columns='description',inplace=True)"
   ]
  },
  {
   "cell_type": "code",
   "execution_count": 125,
   "metadata": {
    "colab": {
     "base_uri": "https://localhost:8080/",
     "height": 366
    },
    "executionInfo": {
     "elapsed": 72,
     "status": "ok",
     "timestamp": 1734246387299,
     "user": {
      "displayName": "Aifinite_learning",
      "userId": "00541348809590848732"
     },
     "user_tz": -330
    },
    "id": "R6XqHUBsHrpX",
    "outputId": "8563fea5-9de0-4cd3-925b-aaecd92f7986"
   },
   "outputs": [
    {
     "data": {
      "text/plain": [
       "index           0\n",
       "product         1\n",
       "category        0\n",
       "sub_category    0\n",
       "brand           1\n",
       "sale_price      0\n",
       "market_price    0\n",
       "type            0\n",
       "rating          0\n",
       "dtype: int64"
      ]
     },
     "execution_count": 125,
     "metadata": {},
     "output_type": "execute_result"
    }
   ],
   "source": [
    "super_data.isnull().sum()"
   ]
  },
  {
   "cell_type": "code",
   "execution_count": null,
   "metadata": {
    "executionInfo": {
     "elapsed": 70,
     "status": "ok",
     "timestamp": 1734246387300,
     "user": {
      "displayName": "Aifinite_learning",
      "userId": "00541348809590848732"
     },
     "user_tz": -330
    },
    "id": "sJzKgW_tHxYY"
   },
   "outputs": [],
   "source": [
    "super_data.dropna(inplace=True)"
   ]
  },
  {
   "cell_type": "code",
   "execution_count": 127,
   "metadata": {
    "colab": {
     "base_uri": "https://localhost:8080/",
     "height": 366
    },
    "executionInfo": {
     "elapsed": 70,
     "status": "ok",
     "timestamp": 1734246387301,
     "user": {
      "displayName": "Aifinite_learning",
      "userId": "00541348809590848732"
     },
     "user_tz": -330
    },
    "id": "RME2rOBLIQwy",
    "outputId": "bd72e4b6-14c6-4b72-93ef-979e26030518"
   },
   "outputs": [
    {
     "data": {
      "text/plain": [
       "index           0\n",
       "product         0\n",
       "category        0\n",
       "sub_category    0\n",
       "brand           0\n",
       "sale_price      0\n",
       "market_price    0\n",
       "type            0\n",
       "rating          0\n",
       "dtype: int64"
      ]
     },
     "execution_count": 127,
     "metadata": {},
     "output_type": "execute_result"
    }
   ],
   "source": [
    "super_data.isnull().sum()"
   ]
  },
  {
   "cell_type": "markdown",
   "metadata": {
    "id": "KPGg-5XZK5Qf"
   },
   "source": [
    "***EDA - Exploratory Data Analysis of brand BigBasket data***"
   ]
  },
  {
   "cell_type": "markdown",
   "metadata": {
    "id": "kKVYnoAPK-KV"
   },
   "source": [
    "cleaning product column"
   ]
  },
  {
   "cell_type": "code",
   "execution_count": 128,
   "metadata": {
    "colab": {
     "base_uri": "https://localhost:8080/",
     "height": 490
    },
    "executionInfo": {
     "elapsed": 736,
     "status": "ok",
     "timestamp": 1734246387973,
     "user": {
      "displayName": "Aifinite_learning",
      "userId": "00541348809590848732"
     },
     "user_tz": -330
    },
    "id": "Y3AMdW8nIV4a",
    "outputId": "3c2c0bfa-8a16-47c6-b507-8e89a27a02ca"
   },
   "outputs": [
    {
     "data": {
      "text/plain": [
       "product\n",
       "Turmeric Powder/Arisina Pudi                                     26\n",
       "Extra Virgin Olive Oil                                           15\n",
       "Cow Ghee/Tuppa                                                   14\n",
       "Soft Drink                                                       12\n",
       "Colorsilk Hair Colour With Keratin                               12\n",
       "                                                                 ..\n",
       "Pepper & Herb Salami Chicken                                      1\n",
       "Nutmeg Powder                                                     1\n",
       "Disney Mickey Mouse Plastic Kids Sipper Bottle - Coolest Dude     1\n",
       "Chocolates-Roasted Peanut Chocolate                               1\n",
       "Green Tea - Pure Original                                         1\n",
       "Name: count, Length: 23539, dtype: int64"
      ]
     },
     "execution_count": 128,
     "metadata": {},
     "output_type": "execute_result"
    }
   ],
   "source": [
    "product_value=super_data['product'].value_counts()\n",
    "\n",
    "product_value"
   ]
  },
  {
   "cell_type": "code",
   "execution_count": 129,
   "metadata": {
    "colab": {
     "base_uri": "https://localhost:8080/",
     "height": 490
    },
    "executionInfo": {
     "elapsed": 123,
     "status": "ok",
     "timestamp": 1734246387974,
     "user": {
      "displayName": "Aifinite_learning",
      "userId": "00541348809590848732"
     },
     "user_tz": -330
    },
    "id": "EKuhpFapLEfG",
    "outputId": "3330329e-1da0-4b79-b7ac-28c4188289fe"
   },
   "outputs": [
    {
     "data": {
      "text/plain": [
       "product\n",
       "Nilgiri Green Tea - Yakuso Tulsi                                 4\n",
       "Mixed Herbs                                                      4\n",
       "Cool Bath Soap - 99.9% Germ Protection                           4\n",
       "Microwave Popcorn - Butter                                       4\n",
       "Cheese Cubes                                                     4\n",
       "                                                                ..\n",
       "Pepper & Herb Salami Chicken                                     1\n",
       "Nutmeg Powder                                                    1\n",
       "Disney Mickey Mouse Plastic Kids Sipper Bottle - Coolest Dude    1\n",
       "Chocolates-Roasted Peanut Chocolate                              1\n",
       "Green Tea - Pure Original                                        1\n",
       "Name: count, Length: 23436, dtype: int64"
      ]
     },
     "execution_count": 129,
     "metadata": {},
     "output_type": "execute_result"
    }
   ],
   "source": [
    "product_less_than_5=product_value[product_value<5]\n",
    "product_less_than_5"
   ]
  },
  {
   "cell_type": "code",
   "execution_count": 130,
   "metadata": {
    "colab": {
     "base_uri": "https://localhost:8080/",
     "height": 490
    },
    "executionInfo": {
     "elapsed": 121,
     "status": "ok",
     "timestamp": 1734246387974,
     "user": {
      "displayName": "Aifinite_learning",
      "userId": "00541348809590848732"
     },
     "user_tz": -330
    },
    "id": "AJcyZrB6Lpwz",
    "outputId": "b336ee6b-0dfe-4d8e-9fbb-1f4a65b1c60d"
   },
   "outputs": [
    {
     "data": {
      "text/plain": [
       "product\n",
       "others                                26860\n",
       "Turmeric Powder/Arisina Pudi             26\n",
       "Extra Virgin Olive Oil                   15\n",
       "Cow Ghee/Tuppa                           14\n",
       "Colorsilk Hair Colour With Keratin       12\n",
       "                                      ...  \n",
       "Toilet Cleaner                            5\n",
       "Kitchen King Masala                       5\n",
       "Packaged Drinking Water                   5\n",
       "Flax Seeds                                5\n",
       "Casting Crème Gloss Small Pack            5\n",
       "Name: count, Length: 104, dtype: int64"
      ]
     },
     "execution_count": 130,
     "metadata": {},
     "output_type": "execute_result"
    }
   ],
   "source": [
    "def handle_product(value):\n",
    "  if (value in product_less_than_5):\n",
    "    return 'others'\n",
    "\n",
    "  else:\n",
    "    return value\n",
    "\n",
    "super_data['product']=super_data['product'].apply(handle_product)\n",
    "p=super_data['product'].value_counts()\n",
    "p"
   ]
  },
  {
   "cell_type": "markdown",
   "metadata": {
    "id": "2NYBSMQjTa4t"
   },
   "source": [
    "cleaning category column"
   ]
  },
  {
   "cell_type": "code",
   "execution_count": 131,
   "metadata": {
    "colab": {
     "base_uri": "https://localhost:8080/",
     "height": 460
    },
    "executionInfo": {
     "elapsed": 426,
     "status": "ok",
     "timestamp": 1734247529202,
     "user": {
      "displayName": "Aifinite_learning",
      "userId": "00541348809590848732"
     },
     "user_tz": -330
    },
    "id": "hqc7KGi9PmNj",
    "outputId": "dd8fb15a-294e-4a2f-c30c-ecd570ab33f1"
   },
   "outputs": [
    {
     "data": {
      "text/plain": [
       "category\n",
       "Beauty & Hygiene            7867\n",
       "Gourmet & World Food        4690\n",
       "Kitchen, Garden & Pets      3580\n",
       "Snacks & Branded Foods      2814\n",
       "Foodgrains, Oil & Masala    2676\n",
       "Cleaning & Household        2674\n",
       "Beverages                    884\n",
       "Bakery, Cakes & Dairy        851\n",
       "Baby Care                    610\n",
       "Fruits & Vegetables          557\n",
       "Eggs, Meat & Fish            350\n",
       "Name: count, dtype: int64"
      ]
     },
     "execution_count": 131,
     "metadata": {},
     "output_type": "execute_result"
    }
   ],
   "source": [
    "category_value=super_data['category'].value_counts()\n",
    "\n",
    "category_value"
   ]
  },
  {
   "cell_type": "markdown",
   "metadata": {
    "id": "1R2ZSGBeTviw"
   },
   "source": [
    "cleaning subcategory column"
   ]
  },
  {
   "cell_type": "code",
   "execution_count": 132,
   "metadata": {
    "colab": {
     "base_uri": "https://localhost:8080/",
     "height": 490
    },
    "executionInfo": {
     "elapsed": 117,
     "status": "ok",
     "timestamp": 1734246387975,
     "user": {
      "displayName": "Aifinite_learning",
      "userId": "00541348809590848732"
     },
     "user_tz": -330
    },
    "id": "INqjUzsTTj6b",
    "outputId": "bf6a8c49-5871-480f-acc0-8dd7c13d8337"
   },
   "outputs": [
    {
     "data": {
      "text/plain": [
       "sub_category\n",
       "Skin Care                   2294\n",
       "Health & Medicine           1133\n",
       "Hair Care                   1028\n",
       "Storage & Accessories       1015\n",
       "Fragrances & Deos           1000\n",
       "                            ... \n",
       "Mutton & Lamb                 20\n",
       "Water                         17\n",
       "Flower Bouquets, Bunches       8\n",
       "Pork & Other Meats             5\n",
       "Marinades                      1\n",
       "Name: count, Length: 90, dtype: int64"
      ]
     },
     "execution_count": 132,
     "metadata": {},
     "output_type": "execute_result"
    }
   ],
   "source": [
    "sub_category_value=super_data['sub_category'].value_counts()\n",
    "\n",
    "sub_category_value\n"
   ]
  },
  {
   "cell_type": "code",
   "execution_count": 133,
   "metadata": {
    "colab": {
     "base_uri": "https://localhost:8080/",
     "height": 490
    },
    "executionInfo": {
     "elapsed": 116,
     "status": "ok",
     "timestamp": 1734246387976,
     "user": {
      "displayName": "Aifinite_learning",
      "userId": "00541348809590848732"
     },
     "user_tz": -330
    },
    "id": "FPRRiqdgT4BD",
    "outputId": "8f2893e2-2398-4f06-9f37-6ff779f57e63"
   },
   "outputs": [
    {
     "data": {
      "text/plain": [
       "sub_category\n",
       "All Purpose Cleaners        475\n",
       "Stationery                  410\n",
       "Bins & Bathroom Ware        392\n",
       "Dairy                       385\n",
       "Pet Food & Accessories      356\n",
       "                           ... \n",
       "Mutton & Lamb                20\n",
       "Water                        17\n",
       "Flower Bouquets, Bunches      8\n",
       "Pork & Other Meats            5\n",
       "Marinades                     1\n",
       "Name: count, Length: 73, dtype: int64"
      ]
     },
     "execution_count": 133,
     "metadata": {},
     "output_type": "execute_result"
    }
   ],
   "source": [
    "sub_category_less_than_500=sub_category_value[sub_category_value<500]\n",
    "sub_category_less_than_500"
   ]
  },
  {
   "cell_type": "code",
   "execution_count": 134,
   "metadata": {
    "colab": {
     "base_uri": "https://localhost:8080/",
     "height": 680
    },
    "executionInfo": {
     "elapsed": 113,
     "status": "ok",
     "timestamp": 1734246387976,
     "user": {
      "displayName": "Aifinite_learning",
      "userId": "00541348809590848732"
     },
     "user_tz": -330
    },
    "id": "__Az_CglULs7",
    "outputId": "8c266620-fc89-417c-d55f-1c3312f3dabb"
   },
   "outputs": [
    {
     "data": {
      "text/plain": [
       "sub_category\n",
       "others                      12159\n",
       "Skin Care                    2294\n",
       "Health & Medicine            1133\n",
       "Hair Care                    1028\n",
       "Storage & Accessories        1015\n",
       "Fragrances & Deos            1000\n",
       "Bath & Hand Wash              996\n",
       "Crockery & Cutlery            890\n",
       "Masalas & Spices              889\n",
       "Snacks, Dry Fruits, Nuts      840\n",
       "Men's Grooming                805\n",
       "Drinks & Beverages            736\n",
       "Cooking & Baking Needs        693\n",
       "Sauces, Spreads & Dips        667\n",
       "Organic Staples               656\n",
       "Ready To Cook & Eat           643\n",
       "Chocolates & Biscuits         609\n",
       "Snacks & Namkeen              500\n",
       "Name: count, dtype: int64"
      ]
     },
     "execution_count": 134,
     "metadata": {},
     "output_type": "execute_result"
    }
   ],
   "source": [
    "def handle_sub_category(value):\n",
    "  if (value in sub_category_less_than_500):\n",
    "    return 'others'\n",
    "\n",
    "  else:\n",
    "    return value\n",
    "\n",
    "super_data['sub_category']=super_data['sub_category'].apply(handle_sub_category)\n",
    "sub_cat=super_data['sub_category'].value_counts()\n",
    "sub_cat"
   ]
  },
  {
   "cell_type": "markdown",
   "metadata": {
    "id": "zz1fwTOIU0dH"
   },
   "source": [
    "cleaning brand column"
   ]
  },
  {
   "cell_type": "code",
   "execution_count": 135,
   "metadata": {
    "colab": {
     "base_uri": "https://localhost:8080/",
     "height": 490
    },
    "executionInfo": {
     "elapsed": 110,
     "status": "ok",
     "timestamp": 1734246387976,
     "user": {
      "displayName": "Aifinite_learning",
      "userId": "00541348809590848732"
     },
     "user_tz": -330
    },
    "id": "jn_ERiM_Urn_",
    "outputId": "db1f7f94-1252-41f2-b1e6-580c43730b53"
   },
   "outputs": [
    {
     "data": {
      "text/plain": [
       "brand\n",
       "Fresho              638\n",
       "bb Royal            539\n",
       "BB Home             428\n",
       "DP                  250\n",
       "Fresho Signature    171\n",
       "                   ... \n",
       "Wellastrate           1\n",
       "Clean & Fresh         1\n",
       "Lal                   1\n",
       "Glint                 1\n",
       "Baron De Bercy        1\n",
       "Name: count, Length: 2313, dtype: int64"
      ]
     },
     "execution_count": 135,
     "metadata": {},
     "output_type": "execute_result"
    }
   ],
   "source": [
    "brand_value=super_data['brand'].value_counts()\n",
    "\n",
    "brand_value"
   ]
  },
  {
   "cell_type": "code",
   "execution_count": 136,
   "metadata": {
    "colab": {
     "base_uri": "https://localhost:8080/",
     "height": 490
    },
    "executionInfo": {
     "elapsed": 108,
     "status": "ok",
     "timestamp": 1734246387977,
     "user": {
      "displayName": "Aifinite_learning",
      "userId": "00541348809590848732"
     },
     "user_tz": -330
    },
    "id": "awKCDo7yVEXs",
    "outputId": "d0972504-2159-4443-9144-2e944f20c8ea"
   },
   "outputs": [
    {
     "data": {
      "text/plain": [
       "brand\n",
       "True Elements     99\n",
       "Mamaearth         97\n",
       "Graminway         96\n",
       "HappyChef         96\n",
       "Dettol            95\n",
       "                  ..\n",
       "Wellastrate        1\n",
       "Clean & Fresh      1\n",
       "Lal                1\n",
       "Glint              1\n",
       "Baron De Bercy     1\n",
       "Name: count, Length: 2288, dtype: int64"
      ]
     },
     "execution_count": 136,
     "metadata": {},
     "output_type": "execute_result"
    }
   ],
   "source": [
    "brand_less_than_100=brand_value[brand_value<100]\n",
    "brand_less_than_100"
   ]
  },
  {
   "cell_type": "code",
   "execution_count": 137,
   "metadata": {
    "colab": {
     "base_uri": "https://localhost:8080/",
     "height": 931
    },
    "executionInfo": {
     "elapsed": 105,
     "status": "ok",
     "timestamp": 1734246387977,
     "user": {
      "displayName": "Aifinite_learning",
      "userId": "00541348809590848732"
     },
     "user_tz": -330
    },
    "id": "2Zxo_GtTVJ28",
    "outputId": "2a4b4f46-eefc-4505-faa2-cdcf7cb653bb"
   },
   "outputs": [
    {
     "data": {
      "text/plain": [
       "brand\n",
       "others              23127\n",
       "Fresho                638\n",
       "bb Royal              539\n",
       "BB Home               428\n",
       "DP                    250\n",
       "Fresho Signature      171\n",
       "bb Combo              168\n",
       "Amul                  153\n",
       "INATUR                146\n",
       "Himalaya              141\n",
       "Dabur                 138\n",
       "GoodDiet              134\n",
       "Cello                 124\n",
       "Nike                  124\n",
       "Iveo                  118\n",
       "BIOTIQUE              117\n",
       "Aroma Magic           109\n",
       "Colgate               107\n",
       "Organic Tattva        106\n",
       "Loreal Paris          104\n",
       "Britannia             104\n",
       "Nakoda                103\n",
       "Soulflower            102\n",
       "NUTRIWISH             101\n",
       "Keya                  101\n",
       "MTR                   100\n",
       "Name: count, dtype: int64"
      ]
     },
     "execution_count": 137,
     "metadata": {},
     "output_type": "execute_result"
    }
   ],
   "source": [
    "def handle_brand(value):\n",
    "  if (value in brand_less_than_100):\n",
    "    return 'others'\n",
    "\n",
    "  else:\n",
    "    return value\n",
    "\n",
    "super_data['brand']=super_data['brand'].apply(handle_brand)\n",
    "b=super_data['brand'].value_counts()\n",
    "b"
   ]
  },
  {
   "cell_type": "markdown",
   "metadata": {
    "id": "OzpAin95VaWb"
   },
   "source": [
    "clening type column"
   ]
  },
  {
   "cell_type": "code",
   "execution_count": 138,
   "metadata": {
    "colab": {
     "base_uri": "https://localhost:8080/",
     "height": 490
    },
    "executionInfo": {
     "elapsed": 102,
     "status": "ok",
     "timestamp": 1734246387977,
     "user": {
      "displayName": "Aifinite_learning",
      "userId": "00541348809590848732"
     },
     "user_tz": -330
    },
    "id": "2sG4uPsuVRF6",
    "outputId": "ac6b60e2-f363-4138-cc35-da0127776a2a"
   },
   "outputs": [
    {
     "data": {
      "text/plain": [
       "type\n",
       "Face Care                1508\n",
       "Ayurveda                  538\n",
       "Men's Deodorants          500\n",
       "Shampoo & Conditioner     461\n",
       "Glassware                 415\n",
       "                         ... \n",
       "Bagels & Baguette           1\n",
       "Roses                       1\n",
       "Marinated Meat              1\n",
       "Organic Eggs                1\n",
       "Turkey & Duck               1\n",
       "Name: count, Length: 426, dtype: int64"
      ]
     },
     "execution_count": 138,
     "metadata": {},
     "output_type": "execute_result"
    }
   ],
   "source": [
    "type_value=super_data['type'].value_counts()\n",
    "\n",
    "type_value"
   ]
  },
  {
   "cell_type": "code",
   "execution_count": 139,
   "metadata": {
    "colab": {
     "base_uri": "https://localhost:8080/",
     "height": 490
    },
    "executionInfo": {
     "elapsed": 98,
     "status": "ok",
     "timestamp": 1734246387977,
     "user": {
      "displayName": "Aifinite_learning",
      "userId": "00541348809590848732"
     },
     "user_tz": -330
    },
    "id": "KGlLvKc6VhTu",
    "outputId": "e3918680-a65a-443f-a4dd-d2e3ae67d781"
   },
   "outputs": [
    {
     "data": {
      "text/plain": [
       "type\n",
       "Face & Body                 198\n",
       "Chips & Corn Snacks         186\n",
       "Chocolates                  177\n",
       "Cookies, Biscotti, Wafer    175\n",
       "Herbs, Seasonings & Rubs    173\n",
       "                           ... \n",
       "Bagels & Baguette             1\n",
       "Roses                         1\n",
       "Marinated Meat                1\n",
       "Organic Eggs                  1\n",
       "Turkey & Duck                 1\n",
       "Name: count, Length: 399, dtype: int64"
      ]
     },
     "execution_count": 139,
     "metadata": {},
     "output_type": "execute_result"
    }
   ],
   "source": [
    "type_less_than_200=type_value[type_value<200]\n",
    "type_less_than_200"
   ]
  },
  {
   "cell_type": "code",
   "execution_count": 140,
   "metadata": {
    "colab": {
     "base_uri": "https://localhost:8080/",
     "height": 994
    },
    "executionInfo": {
     "elapsed": 770,
     "status": "ok",
     "timestamp": 1734246388654,
     "user": {
      "displayName": "Aifinite_learning",
      "userId": "00541348809590848732"
     },
     "user_tz": -330
    },
    "id": "QjFk6616Vq2O",
    "outputId": "2b2804d4-9959-4723-891c-8a412dc9ae6e"
   },
   "outputs": [
    {
     "data": {
      "text/plain": [
       "type\n",
       "others                      18392\n",
       "Face Care                    1508\n",
       "Ayurveda                      538\n",
       "Men's Deodorants              500\n",
       "Shampoo & Conditioner         461\n",
       "Glassware                     415\n",
       "Containers Sets               415\n",
       "Bathing Bars & Soaps          390\n",
       "Blended Masalas               380\n",
       "Body Care                     340\n",
       "Gourmet Tea & Tea Bags        335\n",
       "Water & Fridge Bottles        295\n",
       "Namkeen & Savoury Snacks      276\n",
       "Aromatherapy                  276\n",
       "Supplements & Proteins        240\n",
       "Hand Wash & Sanitizers        233\n",
       "Pet Meals & Treats            230\n",
       "Powdered Spices               222\n",
       "Dry Fruits & Berries          219\n",
       "Hair Oil & Serum              217\n",
       "Diapers                       215\n",
       "Roasted Seeds & Nuts          214\n",
       "Lunch Boxes                   212\n",
       "Eau De Toilette               211\n",
       "Cups, Mugs & Tumblers         208\n",
       "Breakfast & Snack Mixes       207\n",
       "Organic Masalas & Spices      202\n",
       "Healthy, Baked Snacks         202\n",
       "Name: count, dtype: int64"
      ]
     },
     "execution_count": 140,
     "metadata": {},
     "output_type": "execute_result"
    }
   ],
   "source": [
    "def handle_type(value):\n",
    "  if (value in type_less_than_200):\n",
    "    return 'others'\n",
    "\n",
    "  else:\n",
    "    return value\n",
    "\n",
    "super_data['type']=super_data['type'].apply(handle_type)\n",
    "t=super_data['type'].value_counts()\n",
    "t"
   ]
  },
  {
   "cell_type": "markdown",
   "metadata": {
    "id": "FpVHR2Y1XSTg"
   },
   "source": [
    "type count data"
   ]
  },
  {
   "cell_type": "code",
   "execution_count": 141,
   "metadata": {
    "colab": {
     "base_uri": "https://localhost:8080/",
     "height": 272
    },
    "executionInfo": {
     "elapsed": 91,
     "status": "ok",
     "timestamp": 1734246388655,
     "user": {
      "displayName": "Aifinite_learning",
      "userId": "00541348809590848732"
     },
     "user_tz": -330
    },
    "id": "MlbNT7C0Vu7Q",
    "outputId": "fb85762a-06a1-4379-b214-804efec84cc4"
   },
   "outputs": [
    {
     "data": {
      "text/plain": [
       "type\n",
       "others                   18392\n",
       "Face Care                 1508\n",
       "Ayurveda                   538\n",
       "Men's Deodorants           500\n",
       "Shampoo & Conditioner      461\n",
       "Name: count, dtype: int64"
      ]
     },
     "execution_count": 141,
     "metadata": {},
     "output_type": "execute_result"
    }
   ],
   "source": [
    "t.head()"
   ]
  },
  {
   "cell_type": "markdown",
   "metadata": {
    "id": "JQnaJO8fXVQ_"
   },
   "source": [
    "brand count data"
   ]
  },
  {
   "cell_type": "code",
   "execution_count": 142,
   "metadata": {
    "colab": {
     "base_uri": "https://localhost:8080/",
     "height": 272
    },
    "executionInfo": {
     "elapsed": 88,
     "status": "ok",
     "timestamp": 1734246388656,
     "user": {
      "displayName": "Aifinite_learning",
      "userId": "00541348809590848732"
     },
     "user_tz": -330
    },
    "id": "Kbt_seFmXPKP",
    "outputId": "2cb97ee6-9614-48e7-a082-e598dbab4fa9"
   },
   "outputs": [
    {
     "data": {
      "text/plain": [
       "brand\n",
       "others      23127\n",
       "Fresho        638\n",
       "bb Royal      539\n",
       "BB Home       428\n",
       "DP            250\n",
       "Name: count, dtype: int64"
      ]
     },
     "execution_count": 142,
     "metadata": {},
     "output_type": "execute_result"
    }
   ],
   "source": [
    "b.head()"
   ]
  },
  {
   "cell_type": "markdown",
   "metadata": {
    "id": "Cq7GhWN5Xdes"
   },
   "source": [
    "categroy count"
   ]
  },
  {
   "cell_type": "code",
   "execution_count": 143,
   "metadata": {
    "colab": {
     "base_uri": "https://localhost:8080/",
     "height": 272
    },
    "executionInfo": {
     "elapsed": 84,
     "status": "ok",
     "timestamp": 1734246388657,
     "user": {
      "displayName": "Aifinite_learning",
      "userId": "00541348809590848732"
     },
     "user_tz": -330
    },
    "id": "P9bCEwpBXbEt",
    "outputId": "3446064e-2372-4e8c-ed0f-7c654838dbd4"
   },
   "outputs": [
    {
     "data": {
      "text/plain": [
       "category\n",
       "Beauty & Hygiene            7867\n",
       "Gourmet & World Food        4690\n",
       "Kitchen, Garden & Pets      3580\n",
       "Snacks & Branded Foods      2814\n",
       "Foodgrains, Oil & Masala    2676\n",
       "Name: count, dtype: int64"
      ]
     },
     "execution_count": 143,
     "metadata": {},
     "output_type": "execute_result"
    }
   ],
   "source": [
    "category_value.head()"
   ]
  },
  {
   "cell_type": "markdown",
   "metadata": {
    "id": "wLCVC0QfXms0"
   },
   "source": [
    "subcategry count"
   ]
  },
  {
   "cell_type": "code",
   "execution_count": 144,
   "metadata": {
    "colab": {
     "base_uri": "https://localhost:8080/",
     "height": 272
    },
    "executionInfo": {
     "elapsed": 82,
     "status": "ok",
     "timestamp": 1734246388657,
     "user": {
      "displayName": "Aifinite_learning",
      "userId": "00541348809590848732"
     },
     "user_tz": -330
    },
    "id": "2DrWA8TEXlkG",
    "outputId": "49e1b428-8279-4311-f947-740cc7a4eeeb"
   },
   "outputs": [
    {
     "data": {
      "text/plain": [
       "sub_category\n",
       "others                   12159\n",
       "Skin Care                 2294\n",
       "Health & Medicine         1133\n",
       "Hair Care                 1028\n",
       "Storage & Accessories     1015\n",
       "Name: count, dtype: int64"
      ]
     },
     "execution_count": 144,
     "metadata": {},
     "output_type": "execute_result"
    }
   ],
   "source": [
    "sub_cat.head()"
   ]
  },
  {
   "cell_type": "code",
   "execution_count": 145,
   "metadata": {
    "colab": {
     "base_uri": "https://localhost:8080/",
     "height": 206
    },
    "executionInfo": {
     "elapsed": 80,
     "status": "ok",
     "timestamp": 1734246388658,
     "user": {
      "displayName": "Aifinite_learning",
      "userId": "00541348809590848732"
     },
     "user_tz": -330
    },
    "id": "l25calCCXwkS",
    "outputId": "bf857fc8-20db-497d-f55b-1bb0e0b4a81f"
   },
   "outputs": [
    {
     "data": {
      "text/html": [
       "<div>\n",
       "<style scoped>\n",
       "    .dataframe tbody tr th:only-of-type {\n",
       "        vertical-align: middle;\n",
       "    }\n",
       "\n",
       "    .dataframe tbody tr th {\n",
       "        vertical-align: top;\n",
       "    }\n",
       "\n",
       "    .dataframe thead th {\n",
       "        text-align: right;\n",
       "    }\n",
       "</style>\n",
       "<table border=\"1\" class=\"dataframe\">\n",
       "  <thead>\n",
       "    <tr style=\"text-align: right;\">\n",
       "      <th></th>\n",
       "      <th>index</th>\n",
       "      <th>product</th>\n",
       "      <th>category</th>\n",
       "      <th>sub_category</th>\n",
       "      <th>brand</th>\n",
       "      <th>sale_price</th>\n",
       "      <th>market_price</th>\n",
       "      <th>type</th>\n",
       "      <th>rating</th>\n",
       "    </tr>\n",
       "  </thead>\n",
       "  <tbody>\n",
       "    <tr>\n",
       "      <th>0</th>\n",
       "      <td>1</td>\n",
       "      <td>others</td>\n",
       "      <td>Beauty &amp; Hygiene</td>\n",
       "      <td>Hair Care</td>\n",
       "      <td>others</td>\n",
       "      <td>220.0</td>\n",
       "      <td>220.0</td>\n",
       "      <td>Hair Oil &amp; Serum</td>\n",
       "      <td>4.1</td>\n",
       "    </tr>\n",
       "    <tr>\n",
       "      <th>1</th>\n",
       "      <td>2</td>\n",
       "      <td>others</td>\n",
       "      <td>Kitchen, Garden &amp; Pets</td>\n",
       "      <td>Storage &amp; Accessories</td>\n",
       "      <td>others</td>\n",
       "      <td>180.0</td>\n",
       "      <td>180.0</td>\n",
       "      <td>Water &amp; Fridge Bottles</td>\n",
       "      <td>2.3</td>\n",
       "    </tr>\n",
       "    <tr>\n",
       "      <th>2</th>\n",
       "      <td>3</td>\n",
       "      <td>others</td>\n",
       "      <td>Cleaning &amp; Household</td>\n",
       "      <td>others</td>\n",
       "      <td>others</td>\n",
       "      <td>119.0</td>\n",
       "      <td>250.0</td>\n",
       "      <td>others</td>\n",
       "      <td>3.4</td>\n",
       "    </tr>\n",
       "    <tr>\n",
       "      <th>3</th>\n",
       "      <td>4</td>\n",
       "      <td>others</td>\n",
       "      <td>Cleaning &amp; Household</td>\n",
       "      <td>others</td>\n",
       "      <td>Nakoda</td>\n",
       "      <td>149.0</td>\n",
       "      <td>176.0</td>\n",
       "      <td>others</td>\n",
       "      <td>3.7</td>\n",
       "    </tr>\n",
       "    <tr>\n",
       "      <th>4</th>\n",
       "      <td>5</td>\n",
       "      <td>others</td>\n",
       "      <td>Beauty &amp; Hygiene</td>\n",
       "      <td>Bath &amp; Hand Wash</td>\n",
       "      <td>others</td>\n",
       "      <td>162.0</td>\n",
       "      <td>162.0</td>\n",
       "      <td>Bathing Bars &amp; Soaps</td>\n",
       "      <td>4.4</td>\n",
       "    </tr>\n",
       "  </tbody>\n",
       "</table>\n",
       "</div>"
      ],
      "text/plain": [
       "   index product                category           sub_category   brand  \\\n",
       "0      1  others        Beauty & Hygiene              Hair Care  others   \n",
       "1      2  others  Kitchen, Garden & Pets  Storage & Accessories  others   \n",
       "2      3  others    Cleaning & Household                 others  others   \n",
       "3      4  others    Cleaning & Household                 others  Nakoda   \n",
       "4      5  others        Beauty & Hygiene       Bath & Hand Wash  others   \n",
       "\n",
       "   sale_price  market_price                    type  rating  \n",
       "0       220.0         220.0        Hair Oil & Serum     4.1  \n",
       "1       180.0         180.0  Water & Fridge Bottles     2.3  \n",
       "2       119.0         250.0                  others     3.4  \n",
       "3       149.0         176.0                  others     3.7  \n",
       "4       162.0         162.0    Bathing Bars & Soaps     4.4  "
      ]
     },
     "execution_count": 145,
     "metadata": {},
     "output_type": "execute_result"
    }
   ],
   "source": [
    "super_data.head()"
   ]
  },
  {
   "cell_type": "code",
   "execution_count": 146,
   "metadata": {
    "executionInfo": {
     "elapsed": 74,
     "status": "ok",
     "timestamp": 1734246388658,
     "user": {
      "displayName": "Aifinite_learning",
      "userId": "00541348809590848732"
     },
     "user_tz": -330
    },
    "id": "oKUbOMVRX63I"
   },
   "outputs": [],
   "source": [
    "super_data.to_csv('bigbasket_clean_data.csv',index=True)"
   ]
  },
  {
   "cell_type": "markdown",
   "metadata": {
    "id": "OgmabEHVJuWT"
   },
   "source": [
    "Data visualization"
   ]
  },
  {
   "cell_type": "markdown",
   "metadata": {
    "id": "T1ndwWeeJyb7"
   },
   "source": [
    "product performsnce analysis--- category and subcategory"
   ]
  },
  {
   "cell_type": "code",
   "execution_count": 147,
   "metadata": {
    "colab": {
     "base_uri": "https://localhost:8080/",
     "height": 962
    },
    "executionInfo": {
     "elapsed": 464,
     "status": "ok",
     "timestamp": 1734247268508,
     "user": {
      "displayName": "Aifinite_learning",
      "userId": "00541348809590848732"
     },
     "user_tz": -330
    },
    "id": "4LaiP2PyYGcZ",
    "outputId": "8aa10327-9346-4f1d-fa68-804917f41cc5"
   },
   "outputs": [
    {
     "data": {
      "text/plain": [
       "type\n",
       "Face Care                   1508\n",
       "Ayurveda                     538\n",
       "Men's Deodorants             500\n",
       "Shampoo & Conditioner        461\n",
       "Glassware                    415\n",
       "Containers Sets              415\n",
       "Bathing Bars & Soaps         390\n",
       "Blended Masalas              380\n",
       "Body Care                    340\n",
       "Gourmet Tea & Tea Bags       335\n",
       "Water & Fridge Bottles       295\n",
       "Namkeen & Savoury Snacks     276\n",
       "Aromatherapy                 276\n",
       "Supplements & Proteins       240\n",
       "Hand Wash & Sanitizers       233\n",
       "Pet Meals & Treats           230\n",
       "Powdered Spices              222\n",
       "Dry Fruits & Berries         219\n",
       "Hair Oil & Serum             217\n",
       "Diapers                      215\n",
       "Roasted Seeds & Nuts         214\n",
       "Lunch Boxes                  212\n",
       "Eau De Toilette              211\n",
       "Cups, Mugs & Tumblers        208\n",
       "Breakfast & Snack Mixes      207\n",
       "Organic Masalas & Spices     202\n",
       "Healthy, Baked Snacks        202\n",
       "Name: count, dtype: int64"
      ]
     },
     "execution_count": 147,
     "metadata": {},
     "output_type": "execute_result"
    }
   ],
   "source": [
    "product=p.iloc[1: ]\n",
    "product\n",
    "sub_category=sub_cat.iloc[1: ]\n",
    "sub_category\n",
    "brand=b.iloc[1: ]\n",
    "brand\n",
    "Type=t.iloc[1: ]\n",
    "Type"
   ]
  },
  {
   "cell_type": "code",
   "execution_count": 148,
   "metadata": {
    "colab": {
     "base_uri": "https://localhost:8080/"
    },
    "executionInfo": {
     "elapsed": 408,
     "status": "ok",
     "timestamp": 1734248180563,
     "user": {
      "displayName": "Aifinite_learning",
      "userId": "00541348809590848732"
     },
     "user_tz": -330
    },
    "id": "pOhUko1VPqzv",
    "outputId": "272cfbe4-0740-471a-f06e-290347d574a8"
   },
   "outputs": [
    {
     "data": {
      "text/plain": [
       "Index(['Beauty & Hygiene', 'Gourmet & World Food', 'Kitchen, Garden & Pets',\n",
       "       'Snacks & Branded Foods', 'Foodgrains, Oil & Masala',\n",
       "       'Cleaning & Household', 'Beverages', 'Bakery, Cakes & Dairy',\n",
       "       'Baby Care', 'Fruits & Vegetables', 'Eggs, Meat & Fish'],\n",
       "      dtype='object', name='category')"
      ]
     },
     "execution_count": 148,
     "metadata": {},
     "output_type": "execute_result"
    }
   ],
   "source": [
    "category_value.index"
   ]
  },
  {
   "cell_type": "code",
   "execution_count": 149,
   "metadata": {
    "colab": {
     "base_uri": "https://localhost:8080/"
    },
    "executionInfo": {
     "elapsed": 380,
     "status": "ok",
     "timestamp": 1734248175721,
     "user": {
      "displayName": "Aifinite_learning",
      "userId": "00541348809590848732"
     },
     "user_tz": -330
    },
    "id": "FL9YpkQpPrq0",
    "outputId": "26b10477-345d-4d3f-95f9-b21f786b3266"
   },
   "outputs": [
    {
     "data": {
      "text/plain": [
       "array([7867, 4690, 3580, 2814, 2676, 2674,  884,  851,  610,  557,  350],\n",
       "      dtype=int64)"
      ]
     },
     "execution_count": 149,
     "metadata": {},
     "output_type": "execute_result"
    }
   ],
   "source": [
    "category_value.values"
   ]
  },
  {
   "cell_type": "code",
   "execution_count": 150,
   "metadata": {
    "colab": {
     "base_uri": "https://localhost:8080/",
     "height": 645
    },
    "executionInfo": {
     "elapsed": 740,
     "status": "ok",
     "timestamp": 1734248281668,
     "user": {
      "displayName": "Aifinite_learning",
      "userId": "00541348809590848732"
     },
     "user_tz": -330
    },
    "id": "nyX-kFsbL-Go",
    "outputId": "410a67e7-8da1-4003-901a-d3a065b97024"
   },
   "outputs": [
    {
     "data": {
      "image/png": "[encoded data removed]",
      "text/plain": [
       "<Figure size 700x500 with 1 Axes>"
      ]
     },
     "metadata": {},
     "output_type": "display_data"
    }
   ],
   "source": [
    "plt.figure(figsize=(7,5))\n",
    "sns.barplot(x=category_value.index,y=category_value.values)\n",
    "plt.xticks(rotation=90)\n",
    "plt.title('categroy analysis')\n",
    "plt.show()"
   ]
  },
  {
   "cell_type": "code",
   "execution_count": 151,
   "metadata": {
    "id": "FPdFpJEOLqkC"
   },
   "outputs": [
    {
     "name": "stderr",
     "output_type": "stream",
     "text": [
      "C:\\Users\\Salma K\\AppData\\Local\\Temp\\ipykernel_1912\\4104531168.py:2: FutureWarning: \n",
      "\n",
      "Passing `palette` without assigning `hue` is deprecated and will be removed in v0.14.0. Assign the `x` variable to `hue` and set `legend=False` for the same effect.\n",
      "\n",
      "  sns.barplot(x=category_value.index,y=category_value.values,palette=\"Purples\")\n"
     ]
    },
    {
     "data": {
      "image/png": "[encoded data removed]",
      "text/plain": [
       "<Figure size 700x500 with 1 Axes>"
      ]
     },
     "metadata": {},
     "output_type": "display_data"
    }
   ],
   "source": [
    "plt.figure(figsize=(7,5))\n",
    "sns.barplot(x=category_value.index,y=category_value.values,palette=\"Purples\")\n",
    "plt.xticks(rotation=90)\n",
    "plt.title('categroy analysis')\n",
    "plt.show()"
   ]
  },
  {
   "cell_type": "code",
   "execution_count": 152,
   "metadata": {
    "id": "FPdFpJEOLqkC"
   },
   "outputs": [
    {
     "name": "stderr",
     "output_type": "stream",
     "text": [
      "C:\\Users\\Salma K\\AppData\\Local\\Temp\\ipykernel_1912\\1686947127.py:5: FutureWarning: \n",
      "\n",
      "Passing `palette` without assigning `hue` is deprecated and will be removed in v0.14.0. Assign the `x` variable to `hue` and set `legend=False` for the same effect.\n",
      "\n",
      "  sns.barplot(x=category_value.index, y=category_value.values, palette=\"Purples\")\n"
     ]
    },
    {
     "data": {
      "image/png": "[encoded data removed]",
      "text/plain": [
       "<Figure size 700x500 with 1 Axes>"
      ]
     },
     "metadata": {},
     "output_type": "display_data"
    }
   ],
   "source": [
    "import matplotlib.pyplot as plt\n",
    "import seaborn as sns\n",
    "\n",
    "plt.figure(figsize=(7, 5))\n",
    "sns.barplot(x=category_value.index, y=category_value.values, palette=\"Purples\")\n",
    "plt.xticks(rotation=90)\n",
    "plt.ylabel('Count')\n",
    "plt.title('Category Analysis')\n",
    "plt.show()"
   ]
  },
  {
   "cell_type": "code",
   "execution_count": 153,
   "metadata": {},
   "outputs": [
    {
     "name": "stderr",
     "output_type": "stream",
     "text": [
      "C:\\Users\\Salma K\\AppData\\Local\\Temp\\ipykernel_1912\\2870675213.py:5: FutureWarning: \n",
      "\n",
      "Passing `palette` without assigning `hue` is deprecated and will be removed in v0.14.0. Assign the `x` variable to `hue` and set `legend=False` for the same effect.\n",
      "\n",
      "  ax=sns.barplot(x=category_value.index, y=category_value.values, palette=\"Purples\")\n"
     ]
    },
    {
     "data": {
      "image/png": "[encoded data removed]",
      "text/plain": [
       "<Figure size 700x500 with 1 Axes>"
      ]
     },
     "metadata": {},
     "output_type": "display_data"
    }
   ],
   "source": [
    "import matplotlib.pyplot as plt\n",
    "import seaborn as sns\n",
    "\n",
    "plt.figure(figsize=(7, 5))\n",
    "ax=sns.barplot(x=category_value.index, y=category_value.values, palette=\"Purples\")\n",
    "plt.xticks(rotation=90)\n",
    "for container in ax.containers:\n",
    "    ax.bar_label(container, fontsize=10)\n",
    "plt.ylabel('Count')\n",
    "plt.title('Category Analysis')\n",
    "plt.show()\n"
   ]
  },
  {
   "cell_type": "code",
   "execution_count": 154,
   "metadata": {},
   "outputs": [],
   "source": [
    "#plot a graph in which we want a subcategory rating  tht hold these conditon true -- 1- category=beauty and hygine ,,2 - rating >= 4 and brand should not be others"
   ]
  },
  {
   "cell_type": "code",
   "execution_count": 155,
   "metadata": {},
   "outputs": [
    {
     "data": {
      "text/html": [
       "<div>\n",
       "<style scoped>\n",
       "    .dataframe tbody tr th:only-of-type {\n",
       "        vertical-align: middle;\n",
       "    }\n",
       "\n",
       "    .dataframe tbody tr th {\n",
       "        vertical-align: top;\n",
       "    }\n",
       "\n",
       "    .dataframe thead th {\n",
       "        text-align: right;\n",
       "    }\n",
       "</style>\n",
       "<table border=\"1\" class=\"dataframe\">\n",
       "  <thead>\n",
       "    <tr style=\"text-align: right;\">\n",
       "      <th></th>\n",
       "      <th>index</th>\n",
       "      <th>product</th>\n",
       "      <th>category</th>\n",
       "      <th>sub_category</th>\n",
       "      <th>brand</th>\n",
       "      <th>sale_price</th>\n",
       "      <th>market_price</th>\n",
       "      <th>type</th>\n",
       "      <th>rating</th>\n",
       "    </tr>\n",
       "  </thead>\n",
       "  <tbody>\n",
       "    <tr>\n",
       "      <th>67</th>\n",
       "      <td>68</td>\n",
       "      <td>others</td>\n",
       "      <td>Beauty &amp; Hygiene</td>\n",
       "      <td>others</td>\n",
       "      <td>Colgate</td>\n",
       "      <td>374.25</td>\n",
       "      <td>499.0</td>\n",
       "      <td>others</td>\n",
       "      <td>4.0</td>\n",
       "    </tr>\n",
       "    <tr>\n",
       "      <th>70</th>\n",
       "      <td>71</td>\n",
       "      <td>others</td>\n",
       "      <td>Beauty &amp; Hygiene</td>\n",
       "      <td>others</td>\n",
       "      <td>Colgate</td>\n",
       "      <td>43.00</td>\n",
       "      <td>43.0</td>\n",
       "      <td>others</td>\n",
       "      <td>4.0</td>\n",
       "    </tr>\n",
       "    <tr>\n",
       "      <th>114</th>\n",
       "      <td>115</td>\n",
       "      <td>others</td>\n",
       "      <td>Beauty &amp; Hygiene</td>\n",
       "      <td>Skin Care</td>\n",
       "      <td>Soulflower</td>\n",
       "      <td>182.75</td>\n",
       "      <td>215.0</td>\n",
       "      <td>Aromatherapy</td>\n",
       "      <td>4.0</td>\n",
       "    </tr>\n",
       "    <tr>\n",
       "      <th>175</th>\n",
       "      <td>176</td>\n",
       "      <td>others</td>\n",
       "      <td>Beauty &amp; Hygiene</td>\n",
       "      <td>Skin Care</td>\n",
       "      <td>Soulflower</td>\n",
       "      <td>328.00</td>\n",
       "      <td>450.0</td>\n",
       "      <td>Aromatherapy</td>\n",
       "      <td>4.5</td>\n",
       "    </tr>\n",
       "    <tr>\n",
       "      <th>202</th>\n",
       "      <td>203</td>\n",
       "      <td>others</td>\n",
       "      <td>Beauty &amp; Hygiene</td>\n",
       "      <td>Fragrances &amp; Deos</td>\n",
       "      <td>Nike</td>\n",
       "      <td>278.40</td>\n",
       "      <td>348.0</td>\n",
       "      <td>others</td>\n",
       "      <td>4.1</td>\n",
       "    </tr>\n",
       "    <tr>\n",
       "      <th>...</th>\n",
       "      <td>...</td>\n",
       "      <td>...</td>\n",
       "      <td>...</td>\n",
       "      <td>...</td>\n",
       "      <td>...</td>\n",
       "      <td>...</td>\n",
       "      <td>...</td>\n",
       "      <td>...</td>\n",
       "      <td>...</td>\n",
       "    </tr>\n",
       "    <tr>\n",
       "      <th>27460</th>\n",
       "      <td>27461</td>\n",
       "      <td>others</td>\n",
       "      <td>Beauty &amp; Hygiene</td>\n",
       "      <td>Skin Care</td>\n",
       "      <td>Soulflower</td>\n",
       "      <td>360.00</td>\n",
       "      <td>450.0</td>\n",
       "      <td>Aromatherapy</td>\n",
       "      <td>4.8</td>\n",
       "    </tr>\n",
       "    <tr>\n",
       "      <th>27472</th>\n",
       "      <td>27473</td>\n",
       "      <td>others</td>\n",
       "      <td>Beauty &amp; Hygiene</td>\n",
       "      <td>Skin Care</td>\n",
       "      <td>Himalaya</td>\n",
       "      <td>76.50</td>\n",
       "      <td>90.0</td>\n",
       "      <td>Face Care</td>\n",
       "      <td>4.2</td>\n",
       "    </tr>\n",
       "    <tr>\n",
       "      <th>27496</th>\n",
       "      <td>27497</td>\n",
       "      <td>others</td>\n",
       "      <td>Beauty &amp; Hygiene</td>\n",
       "      <td>others</td>\n",
       "      <td>Colgate</td>\n",
       "      <td>156.00</td>\n",
       "      <td>208.0</td>\n",
       "      <td>others</td>\n",
       "      <td>4.3</td>\n",
       "    </tr>\n",
       "    <tr>\n",
       "      <th>27527</th>\n",
       "      <td>27528</td>\n",
       "      <td>others</td>\n",
       "      <td>Beauty &amp; Hygiene</td>\n",
       "      <td>others</td>\n",
       "      <td>Colgate</td>\n",
       "      <td>115.00</td>\n",
       "      <td>170.0</td>\n",
       "      <td>others</td>\n",
       "      <td>4.3</td>\n",
       "    </tr>\n",
       "    <tr>\n",
       "      <th>27538</th>\n",
       "      <td>27539</td>\n",
       "      <td>others</td>\n",
       "      <td>Beauty &amp; Hygiene</td>\n",
       "      <td>Health &amp; Medicine</td>\n",
       "      <td>Himalaya</td>\n",
       "      <td>4500.00</td>\n",
       "      <td>4500.0</td>\n",
       "      <td>Supplements &amp; Proteins</td>\n",
       "      <td>4.0</td>\n",
       "    </tr>\n",
       "  </tbody>\n",
       "</table>\n",
       "<p>872 rows × 9 columns</p>\n",
       "</div>"
      ],
      "text/plain": [
       "       index product          category       sub_category       brand  \\\n",
       "67        68  others  Beauty & Hygiene             others     Colgate   \n",
       "70        71  others  Beauty & Hygiene             others     Colgate   \n",
       "114      115  others  Beauty & Hygiene          Skin Care  Soulflower   \n",
       "175      176  others  Beauty & Hygiene          Skin Care  Soulflower   \n",
       "202      203  others  Beauty & Hygiene  Fragrances & Deos        Nike   \n",
       "...      ...     ...               ...                ...         ...   \n",
       "27460  27461  others  Beauty & Hygiene          Skin Care  Soulflower   \n",
       "27472  27473  others  Beauty & Hygiene          Skin Care    Himalaya   \n",
       "27496  27497  others  Beauty & Hygiene             others     Colgate   \n",
       "27527  27528  others  Beauty & Hygiene             others     Colgate   \n",
       "27538  27539  others  Beauty & Hygiene  Health & Medicine    Himalaya   \n",
       "\n",
       "       sale_price  market_price                    type  rating  \n",
       "67         374.25         499.0                  others     4.0  \n",
       "70          43.00          43.0                  others     4.0  \n",
       "114        182.75         215.0            Aromatherapy     4.0  \n",
       "175        328.00         450.0            Aromatherapy     4.5  \n",
       "202        278.40         348.0                  others     4.1  \n",
       "...           ...           ...                     ...     ...  \n",
       "27460      360.00         450.0            Aromatherapy     4.8  \n",
       "27472       76.50          90.0               Face Care     4.2  \n",
       "27496      156.00         208.0                  others     4.3  \n",
       "27527      115.00         170.0                  others     4.3  \n",
       "27538     4500.00        4500.0  Supplements & Proteins     4.0  \n",
       "\n",
       "[872 rows x 9 columns]"
      ]
     },
     "execution_count": 155,
     "metadata": {},
     "output_type": "execute_result"
    }
   ],
   "source": [
    "filter1=super_data[(super_data.category=='Beauty & Hygiene') & (super_data.rating>=4) & (super_data.brand!='others')]\n",
    "filter1"
   ]
  },
  {
   "cell_type": "code",
   "execution_count": 156,
   "metadata": {},
   "outputs": [
    {
     "name": "stderr",
     "output_type": "stream",
     "text": [
      "C:\\Users\\Salma K\\AppData\\Local\\Temp\\ipykernel_1912\\2182072705.py:2: FutureWarning: \n",
      "\n",
      "Passing `palette` without assigning `hue` is deprecated and will be removed in v0.14.0. Assign the `x` variable to `hue` and set `legend=False` for the same effect.\n",
      "\n",
      "  sns.barplot(data=filter1,x='sub_category',y='rating',palette=\"Purples\")\n"
     ]
    },
    {
     "data": {
      "image/png": "[encoded data removed]",
      "text/plain": [
       "<Figure size 700x500 with 1 Axes>"
      ]
     },
     "metadata": {},
     "output_type": "display_data"
    }
   ],
   "source": [
    "plt.figure(figsize=(7,5))\n",
    "sns.barplot(data=filter1,x='sub_category',y='rating',palette=\"Purples\")\n",
    "plt.xticks(rotation=90)\n",
    "plt.ylabel('rating')\n",
    "plt.title('subcategory rating Analysis according our filter')\n",
    "plt.show()"
   ]
  },
  {
   "cell_type": "code",
   "execution_count": 157,
   "metadata": {},
   "outputs": [
    {
     "name": "stderr",
     "output_type": "stream",
     "text": [
      "C:\\Users\\Salma K\\AppData\\Local\\Temp\\ipykernel_1912\\2068551771.py:2: FutureWarning: \n",
      "\n",
      "Passing `palette` without assigning `hue` is deprecated and will be removed in v0.14.0. Assign the `x` variable to `hue` and set `legend=False` for the same effect.\n",
      "\n",
      "  ax=sns.barplot(data=filter1,x='sub_category',y='rating',palette=\"Purples\")\n"
     ]
    },
    {
     "data": {
      "image/png": "[encoded data removed]",
      "text/plain": [
       "<Figure size 700x500 with 1 Axes>"
      ]
     },
     "metadata": {},
     "output_type": "display_data"
    }
   ],
   "source": [
    "plt.figure(figsize=(7,5))\n",
    "ax=sns.barplot(data=filter1,x='sub_category',y='rating',palette=\"Purples\")\n",
    "plt.xticks(rotation=90)\n",
    "for container in ax.containers:\n",
    "    ax.bar_label(container, fontsize=10)\n",
    "plt.ylabel('rating')\n",
    "plt.title('subcategory rating Analysis according our filter')\n",
    "plt.show()"
   ]
  },
  {
   "cell_type": "code",
   "execution_count": 161,
   "metadata": {
    "id": "R2ZKXoJnKLQz"
   },
   "outputs": [
    {
     "data": {
      "image/png": "[encoded data removed]",
      "text/plain": [
       "<Figure size 700x500 with 1 Axes>"
      ]
     },
     "metadata": {},
     "output_type": "display_data"
    }
   ],
   "source": [
    "plt.figure(figsize=(7,5))\n",
    "ax=sns.barplot(x=filter1.brand,y=filter1.rating,hue=filter1.sub_category,palette=\"Purples\")\n",
    "plt.xticks(rotation=90)\n",
    "for i in ax.containers:\n",
    "    ax.bar_label(i,fontsize=8)\n",
    "plt.ylabel('rating')\n",
    "plt.title('brand Analysis according our filter')\n",
    "plt.show()"
   ]
  },
  {
   "cell_type": "code",
   "execution_count": null,
   "metadata": {},
   "outputs": [],
   "source": [
    "#key insight---category based on highest sales"
   ]
  }
 ],
 "metadata": {
  "colab": {
   "authorship_tag": "ABX9TyOdCxkcdy3rDlVOBAE5jils",
   "provenance": []
  },
  "kernelspec": {
   "display_name": "Python 3 (ipykernel)",
   "language": "python",
   "name": "python3"
  },
  "language_info": {
   "codemirror_mode": {
    "name": "ipython",
    "version": 3
   },
   "file_extension": ".py",
   "mimetype": "text/x-python",
   "name": "python",
   "nbconvert_exporter": "python",
   "pygments_lexer": "ipython3",
   "version": "3.12.4"
  }
 },
 "nbformat": 4,
 "nbformat_minor": 4
}
